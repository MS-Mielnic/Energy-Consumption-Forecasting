{
 "cells": [
  {
   "cell_type": "code",
   "execution_count": 1,
   "id": "5deaf6e0-b314-405a-8f0f-45a880380a9b",
   "metadata": {},
   "outputs": [],
   "source": [
    "import sktime"
   ]
  },
  {
   "cell_type": "code",
   "execution_count": null,
   "id": "ecb85b46-3fa9-4156-8e77-d61c371a6a56",
   "metadata": {},
   "outputs": [],
   "source": []
  }
 ],
 "metadata": {
  "kernelspec": {
   "display_name": "Python 3 (ipykernel)",
   "language": "python",
   "name": "python3"
  },
  "language_info": {
   "codemirror_mode": {
    "name": "ipython",
    "version": 3
   },
   "file_extension": ".py",
   "mimetype": "text/x-python",
   "name": "python",
   "nbconvert_exporter": "python",
   "pygments_lexer": "ipython3",
   "version": "3.10.14"
  }
 },
 "nbformat": 4,
 "nbformat_minor": 5
}
