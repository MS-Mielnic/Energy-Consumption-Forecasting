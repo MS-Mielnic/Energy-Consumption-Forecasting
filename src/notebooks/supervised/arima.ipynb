{
 "cells": [
  {
   "cell_type": "markdown",
   "id": "5e83f32d-9753-432a-89af-d78c4785ed2c",
   "metadata": {},
   "source": [
    "# ARIMA\n",
    "\n",
    "**Assumptions:**\n",
    "- Stationary time series\n",
    "    - If it's not do differences until it is"
   ]
  },
  {
   "cell_type": "code",
   "execution_count": 1,
   "id": "82cc4bb3-39a2-4488-880f-2e06055e0cbe",
   "metadata": {},
   "outputs": [],
   "source": [
    "from statsmodels.tsa.arima.model import ARIMA\n",
    "import pandas as pd"
   ]
  },
  {
   "cell_type": "code",
   "execution_count": null,
   "id": "ad6afb5a-4411-41ec-bbc6-c27de3542487",
   "metadata": {},
   "outputs": [],
   "source": []
  },
  {
   "cell_type": "code",
   "execution_count": null,
   "id": "8a41a241-5fde-4883-9db5-5ccc6043e29e",
   "metadata": {},
   "outputs": [],
   "source": []
  },
  {
   "cell_type": "code",
   "execution_count": null,
   "id": "9e26bfea-678a-45b8-9f32-7d67d7e98030",
   "metadata": {},
   "outputs": [],
   "source": []
  },
  {
   "cell_type": "code",
   "execution_count": null,
   "id": "8564441d-d588-4279-82a4-49436dbda686",
   "metadata": {},
   "outputs": [],
   "source": []
  },
  {
   "cell_type": "markdown",
   "id": "ebdd245d-9023-452d-a4f4-996c579c30e0",
   "metadata": {},
   "source": [
    "## Prepare the Data"
   ]
  },
  {
   "cell_type": "markdown",
   "id": "98488656-1877-4820-bd32-c2f8484d36ca",
   "metadata": {},
   "source": [
    "## Splits"
   ]
  },
  {
   "cell_type": "markdown",
   "id": "46669a56-ab14-45b5-bb2e-d60519d57632",
   "metadata": {},
   "source": [
    "## Training a Baseline"
   ]
  },
  {
   "cell_type": "markdown",
   "id": "30614513-ba62-4bfa-8628-6c274a4124aa",
   "metadata": {},
   "source": [
    "## Hyper-Parameter Tuning"
   ]
  },
  {
   "cell_type": "markdown",
   "id": "0a3b9898-5e06-470c-906f-60159345bead",
   "metadata": {},
   "source": [
    "## Evaluation"
   ]
  }
 ],
 "metadata": {
  "kernelspec": {
   "display_name": "Python 3 (ipykernel)",
   "language": "python",
   "name": "python3"
  },
  "language_info": {
   "codemirror_mode": {
    "name": "ipython",
    "version": 3
   },
   "file_extension": ".py",
   "mimetype": "text/x-python",
   "name": "python",
   "nbconvert_exporter": "python",
   "pygments_lexer": "ipython3",
   "version": "3.10.14"
  }
 },
 "nbformat": 4,
 "nbformat_minor": 5
}
