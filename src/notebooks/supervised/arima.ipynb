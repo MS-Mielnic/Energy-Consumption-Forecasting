{
 "cells": [
  {
   "cell_type": "markdown",
   "id": "5e83f32d-9753-432a-89af-d78c4785ed2c",
   "metadata": {},
   "source": [
    "# ARIMA\n",
    "\n",
    "**Assumptions:**\n",
    "- Stationary time series\n",
    "    - If it's not do differences until it is\n",
    "- "
   ]
  },
  {
   "cell_type": "code",
   "execution_count": 4,
   "id": "82cc4bb3-39a2-4488-880f-2e06055e0cbe",
   "metadata": {},
   "outputs": [],
   "source": [
    "from statsmodels.tsa.arima.model import ARIMA"
   ]
  },
  {
   "cell_type": "code",
   "execution_count": null,
   "id": "80b97eb5-343a-463d-b8ea-c91e926c5565",
   "metadata": {},
   "outputs": [],
   "source": []
  }
 ],
 "metadata": {
  "kernelspec": {
   "display_name": "Python 3 (ipykernel)",
   "language": "python",
   "name": "python3"
  },
  "language_info": {
   "codemirror_mode": {
    "name": "ipython",
    "version": 3
   },
   "file_extension": ".py",
   "mimetype": "text/x-python",
   "name": "python",
   "nbconvert_exporter": "python",
   "pygments_lexer": "ipython3",
   "version": "3.10.14"
  }
 },
 "nbformat": 4,
 "nbformat_minor": 5
}
