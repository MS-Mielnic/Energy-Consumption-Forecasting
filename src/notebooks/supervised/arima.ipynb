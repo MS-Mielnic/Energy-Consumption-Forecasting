{
 "cells": [
  {
   "cell_type": "markdown",
   "id": "5e83f32d-9753-432a-89af-d78c4785ed2c",
   "metadata": {},
   "source": [
    "# ARIMA\n",
    "\n",
    "**Assumptions:**\n",
    "- Stationary time series\n",
    "    - If it's not do differences until it is"
   ]
  },
  {
   "cell_type": "code",
   "execution_count": 2,
   "id": "82cc4bb3-39a2-4488-880f-2e06055e0cbe",
   "metadata": {},
   "outputs": [],
   "source": [
    "from statsmodels.tsa.arima.model import ARIMA\n",
    "import pandas as pd"
   ]
  },
  {
   "cell_type": "code",
   "execution_count": 4,
   "id": "ad6afb5a-4411-41ec-bbc6-c27de3542487",
   "metadata": {},
   "outputs": [
    {
     "data": {
      "text/html": [
       "<div>\n",
       "<style scoped>\n",
       "    .dataframe tbody tr th:only-of-type {\n",
       "        vertical-align: middle;\n",
       "    }\n",
       "\n",
       "    .dataframe tbody tr th {\n",
       "        vertical-align: top;\n",
       "    }\n",
       "\n",
       "    .dataframe thead th {\n",
       "        text-align: right;\n",
       "    }\n",
       "</style>\n",
       "<table border=\"1\" class=\"dataframe\">\n",
       "  <thead>\n",
       "    <tr style=\"text-align: right;\">\n",
       "      <th></th>\n",
       "      <th>Unnamed: 0</th>\n",
       "      <th>date</th>\n",
       "      <th>coal</th>\n",
       "      <th>petroleum_liquids</th>\n",
       "      <th>petroleum_coke</th>\n",
       "      <th>natural_gas</th>\n",
       "      <th>total_consumption</th>\n",
       "    </tr>\n",
       "  </thead>\n",
       "  <tbody>\n",
       "    <tr>\n",
       "      <th>0</th>\n",
       "      <td>180</td>\n",
       "      <td>2016-01-01</td>\n",
       "      <td>2440.0</td>\n",
       "      <td>23.0</td>\n",
       "      <td>6.0</td>\n",
       "      <td>15120.0</td>\n",
       "      <td>4.310533e+06</td>\n",
       "    </tr>\n",
       "    <tr>\n",
       "      <th>1</th>\n",
       "      <td>181</td>\n",
       "      <td>2016-02-01</td>\n",
       "      <td>1966.0</td>\n",
       "      <td>17.0</td>\n",
       "      <td>25.0</td>\n",
       "      <td>15400.0</td>\n",
       "      <td>3.521167e+06</td>\n",
       "    </tr>\n",
       "    <tr>\n",
       "      <th>2</th>\n",
       "      <td>182</td>\n",
       "      <td>2016-03-01</td>\n",
       "      <td>1659.0</td>\n",
       "      <td>19.0</td>\n",
       "      <td>28.0</td>\n",
       "      <td>17555.0</td>\n",
       "      <td>2.988208e+06</td>\n",
       "    </tr>\n",
       "    <tr>\n",
       "      <th>3</th>\n",
       "      <td>183</td>\n",
       "      <td>2016-04-01</td>\n",
       "      <td>1331.0</td>\n",
       "      <td>17.0</td>\n",
       "      <td>35.0</td>\n",
       "      <td>21255.0</td>\n",
       "      <td>2.427928e+06</td>\n",
       "    </tr>\n",
       "    <tr>\n",
       "      <th>4</th>\n",
       "      <td>184</td>\n",
       "      <td>2016-05-01</td>\n",
       "      <td>1668.0</td>\n",
       "      <td>38.0</td>\n",
       "      <td>31.0</td>\n",
       "      <td>21153.0</td>\n",
       "      <td>3.011602e+06</td>\n",
       "    </tr>\n",
       "    <tr>\n",
       "      <th>...</th>\n",
       "      <td>...</td>\n",
       "      <td>...</td>\n",
       "      <td>...</td>\n",
       "      <td>...</td>\n",
       "      <td>...</td>\n",
       "      <td>...</td>\n",
       "      <td>...</td>\n",
       "    </tr>\n",
       "    <tr>\n",
       "      <th>97</th>\n",
       "      <td>277</td>\n",
       "      <td>2024-02-01</td>\n",
       "      <td>961.0</td>\n",
       "      <td>14.0</td>\n",
       "      <td>65.0</td>\n",
       "      <td>33998.0</td>\n",
       "      <td>1.849184e+06</td>\n",
       "    </tr>\n",
       "    <tr>\n",
       "      <th>98</th>\n",
       "      <td>278</td>\n",
       "      <td>2024-03-01</td>\n",
       "      <td>565.0</td>\n",
       "      <td>22.0</td>\n",
       "      <td>23.0</td>\n",
       "      <td>30692.0</td>\n",
       "      <td>1.052677e+06</td>\n",
       "    </tr>\n",
       "    <tr>\n",
       "      <th>99</th>\n",
       "      <td>279</td>\n",
       "      <td>2024-04-01</td>\n",
       "      <td>919.0</td>\n",
       "      <td>12.0</td>\n",
       "      <td>53.0</td>\n",
       "      <td>32405.0</td>\n",
       "      <td>1.746736e+06</td>\n",
       "    </tr>\n",
       "    <tr>\n",
       "      <th>100</th>\n",
       "      <td>280</td>\n",
       "      <td>2024-05-01</td>\n",
       "      <td>917.0</td>\n",
       "      <td>18.0</td>\n",
       "      <td>58.0</td>\n",
       "      <td>36500.0</td>\n",
       "      <td>1.755551e+06</td>\n",
       "    </tr>\n",
       "    <tr>\n",
       "      <th>101</th>\n",
       "      <td>281</td>\n",
       "      <td>2024-06-01</td>\n",
       "      <td>1367.0</td>\n",
       "      <td>0.0</td>\n",
       "      <td>73.0</td>\n",
       "      <td>34578.0</td>\n",
       "      <td>2.582695e+06</td>\n",
       "    </tr>\n",
       "  </tbody>\n",
       "</table>\n",
       "<p>102 rows × 7 columns</p>\n",
       "</div>"
      ],
      "text/plain": [
       "     Unnamed: 0        date    coal  petroleum_liquids  petroleum_coke  \\\n",
       "0           180  2016-01-01  2440.0               23.0             6.0   \n",
       "1           181  2016-02-01  1966.0               17.0            25.0   \n",
       "2           182  2016-03-01  1659.0               19.0            28.0   \n",
       "3           183  2016-04-01  1331.0               17.0            35.0   \n",
       "4           184  2016-05-01  1668.0               38.0            31.0   \n",
       "..          ...         ...     ...                ...             ...   \n",
       "97          277  2024-02-01   961.0               14.0            65.0   \n",
       "98          278  2024-03-01   565.0               22.0            23.0   \n",
       "99          279  2024-04-01   919.0               12.0            53.0   \n",
       "100         280  2024-05-01   917.0               18.0            58.0   \n",
       "101         281  2024-06-01  1367.0                0.0            73.0   \n",
       "\n",
       "     natural_gas  total_consumption  \n",
       "0        15120.0       4.310533e+06  \n",
       "1        15400.0       3.521167e+06  \n",
       "2        17555.0       2.988208e+06  \n",
       "3        21255.0       2.427928e+06  \n",
       "4        21153.0       3.011602e+06  \n",
       "..           ...                ...  \n",
       "97       33998.0       1.849184e+06  \n",
       "98       30692.0       1.052677e+06  \n",
       "99       32405.0       1.746736e+06  \n",
       "100      36500.0       1.755551e+06  \n",
       "101      34578.0       2.582695e+06  \n",
       "\n",
       "[102 rows x 7 columns]"
      ]
     },
     "execution_count": 4,
     "metadata": {},
     "output_type": "execute_result"
    }
   ],
   "source": [
    "pd.read_csv(\"../../../data/targets.csv\")"
   ]
  },
  {
   "cell_type": "code",
   "execution_count": null,
   "id": "8a41a241-5fde-4883-9db5-5ccc6043e29e",
   "metadata": {},
   "outputs": [],
   "source": []
  },
  {
   "cell_type": "code",
   "execution_count": null,
   "id": "9e26bfea-678a-45b8-9f32-7d67d7e98030",
   "metadata": {},
   "outputs": [],
   "source": []
  },
  {
   "cell_type": "code",
   "execution_count": null,
   "id": "8564441d-d588-4279-82a4-49436dbda686",
   "metadata": {},
   "outputs": [],
   "source": []
  },
  {
   "cell_type": "markdown",
   "id": "ebdd245d-9023-452d-a4f4-996c579c30e0",
   "metadata": {},
   "source": [
    "## Prepare the Data"
   ]
  },
  {
   "cell_type": "markdown",
   "id": "98488656-1877-4820-bd32-c2f8484d36ca",
   "metadata": {},
   "source": [
    "## Splits"
   ]
  },
  {
   "cell_type": "markdown",
   "id": "46669a56-ab14-45b5-bb2e-d60519d57632",
   "metadata": {},
   "source": [
    "## Training a Baseline"
   ]
  },
  {
   "cell_type": "markdown",
   "id": "30614513-ba62-4bfa-8628-6c274a4124aa",
   "metadata": {},
   "source": [
    "## Hyper-Parameter Tuning"
   ]
  },
  {
   "cell_type": "markdown",
   "id": "0a3b9898-5e06-470c-906f-60159345bead",
   "metadata": {},
   "source": [
    "## Evaluation"
   ]
  }
 ],
 "metadata": {
  "kernelspec": {
   "display_name": "Python 3 (ipykernel)",
   "language": "python",
   "name": "python3"
  },
  "language_info": {
   "codemirror_mode": {
    "name": "ipython",
    "version": 3
   },
   "file_extension": ".py",
   "mimetype": "text/x-python",
   "name": "python",
   "nbconvert_exporter": "python",
   "pygments_lexer": "ipython3",
   "version": "3.10.14"
  }
 },
 "nbformat": 4,
 "nbformat_minor": 5
}
