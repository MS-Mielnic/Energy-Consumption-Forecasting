{
 "cells": [
  {
   "cell_type": "markdown",
   "id": "c69da345-36d2-4ede-b575-3e96ea94036d",
   "metadata": {},
   "source": [
    "# Normalizing and Creating a General Data Set\n",
    "- Consumption we need to normalize somehow to MWh\n",
    "    - [We can find energy conversions here](https://www.eia.gov/tools/faqs/faq.php?id=667&t=6)\n",
    "    - The end result in `total_consumption` will be in MWh\n",
    "    - This meets my expectations as I expect in a month millions of MWh to power an entire state\n",
    "- Balance is actually pretty clean, we just have to aggregate somehow to the daily\n",
    "- Weather is also relatively clean, I left some things the same depending on the downstream processing"
   ]
  },
  {
   "cell_type": "code",
   "execution_count": 59,
   "id": "00ee845c-37c2-4302-9d4c-24e6a3684ba2",
   "metadata": {},
   "outputs": [
    {
     "data": {
      "text/plain": [
       "DataTransformerRegistry.enable('vegafusion')"
      ]
     },
     "execution_count": 59,
     "metadata": {},
     "output_type": "execute_result"
    }
   ],
   "source": [
    "import pandas as pd\n",
    "import altair as alt\n",
    "from statsmodels.graphics.tsaplots import plot_acf, plot_pacf\n",
    "\n",
    "pd.set_option('display.max_columns', 500)\n",
    "pd.set_option('future.no_silent_downcasting', True)\n",
    "alt.data_transformers.enable(\"vegafusion\")"
   ]
  },
  {
   "cell_type": "markdown",
   "id": "e9000a9e-561d-478d-bb3f-683f3d772135",
   "metadata": {},
   "source": [
    "## Data Transforms"
   ]
  },
  {
   "cell_type": "code",
   "execution_count": 40,
   "id": "90a90e44-0faa-4ac3-a633-58e0bb687b17",
   "metadata": {},
   "outputs": [],
   "source": [
    "start_date = pd.to_datetime('2016-01-01')\n",
    "coal = 0.88 * 2000 # kWh/pound * M/1000k * 2000pound/1ton * 1000thousand\n",
    "nat_gas = 0.13 # kWh/cubic foot * M/1000k * 1000thousand\n",
    "petrol_l = 12.90 / 42 # kWh/gallon * M/1000k * barrel/42gallon * 1000thousand\n",
    "petrol_c = 1.18 * 2000 # kWh/pound * M/1000k * 2000pound/1ton * 1000thousand"
   ]
  },
  {
   "cell_type": "code",
   "execution_count": 54,
   "id": "3e2ffc6a-b2d2-4eed-b5ed-09e355c27288",
   "metadata": {},
   "outputs": [],
   "source": [
    "balance = pd.read_csv(\"../../data/balance_sheet.csv\", parse_dates=['data_date']) # megawatts\n",
    "bcols = [\n",
    "    'demand',\n",
    "    'net_generation', \n",
    "    'total_interchange',\t\n",
    "    'net_generation_coal', \n",
    "    'net_generation_natural_gas', \n",
    "    'net_generation_nuclear',\n",
    "    'net_generation_hydropower_and_pumped_storage', \n",
    "    'net_generation_solar', \n",
    "    'net_generation_wind', \n",
    "    'net_generation_other_fuel_sources'\n",
    "]\n",
    "balance[bcols] = balance[bcols].replace(',', '', regex=True).astype(int)\n",
    "# balance.groupby('data_date')[bcols].mean().round(0).reset_index()\n",
    "# balance.groupby([balance.data_date.dt.month, balance.data_date.dt.year])[bcols].mean().round(0)\n",
    "# balance.groupby([balance.data_date.dt.day, balance.data_date.dt.month, balance.data_date.dt.year])[bcols].mean().round(0)"
   ]
  },
  {
   "cell_type": "code",
   "execution_count": 111,
   "id": "15c8fd90-44e2-49b5-a9f9-e8a801d0fc2c",
   "metadata": {},
   "outputs": [],
   "source": [
    "consumption = pd.read_csv(\"../../data/consumption_mi.csv\", header=4).dropna(axis=0).drop(['units', 'source key'], axis=1)\n",
    "consumption['description'] = consumption['description'].apply(lambda row: '_'.join(row.split(': ')[1].split(' ')))\n",
    "consumption = consumption.T\n",
    "consumption.columns = consumption.iloc[0, :]\n",
    "consumption = consumption.drop('description', axis=0).reset_index(names='date')\n",
    "consumption['date'] = pd.to_datetime(consumption['date'], format='%b %Y')\n",
    "consumption['petroleum_liquids'] = consumption['petroleum_liquids'].replace('NM', 0.0)\n",
    "consumption['total_consumption'] = consumption['coal'].astype(float)*coal + \\\n",
    "    consumption['petroleum_liquids'].astype(float)*petrol_l + \\\n",
    "    consumption['petroleum_coke'].astype(float)*petrol_c + \\\n",
    "    consumption['natural_gas'].astype(float)*nat_gas\n",
    "consumption[consumption['date'] >= date].to_csv(\"../../data/targets.csv\")"
   ]
  },
  {
   "cell_type": "code",
   "execution_count": 91,
   "id": "71f86dfd-e622-4dc7-b92c-035f6c7d5764",
   "metadata": {},
   "outputs": [],
   "source": [
    "weather = pd.read_csv(\"../../data/WeatherReport.csv\", parse_dates=['DATE'])\n",
    "wcols = [\n",
    "    'DAPR',\n",
    "    'MDPR',\n",
    "    'PRCP',\n",
    "    'SN52',\n",
    "    'SN53',\n",
    "    'SNOW',\n",
    "    'SNWD',\n",
    "    'SX52',\n",
    "    'SX53',\n",
    "    'TMAX',\n",
    "    'TMIN',\n",
    "    'TOBS',\n",
    "    'WESD',\n",
    "    'WSFG',\n",
    "    'WT01',\n",
    "    'WT03',\n",
    "    'WT04',\n",
    "    'WT05',\n",
    "    'WT06',\n",
    "    'WT11'\n",
    "]\n",
    "# weather.groupby([weather.DATE.dt.month, weather.DATE.dt.year])[wcols].mean()\n",
    "# weather[wcols].describe()\n",
    "# weather[weather['DATE'] >= date].groupby([weather.DATE.dt.day, weather.DATE.dt.month, weather.DATE.dt.year])[wcols].mean()"
   ]
  },
  {
   "cell_type": "code",
   "execution_count": 92,
   "id": "6e2edaa2-4d2e-478b-be70-ea5096a67106",
   "metadata": {},
   "outputs": [],
   "source": [
    "b = balance.groupby([balance.data_date.dt.day, balance.data_date.dt.month, balance.data_date.dt.year])[bcols] \\\n",
    "    .mean() \\\n",
    "    .round(0)\n",
    "b.index = b.index.set_names(['day', 'month', 'year'])\n",
    "b = b.reset_index()\n",
    "b.insert(1, 'date', pd.to_datetime(b[['day', 'month', 'year']]))\n",
    "b = b.drop(['day', 'month', 'year'], axis=1)"
   ]
  },
  {
   "cell_type": "code",
   "execution_count": 99,
   "id": "b95fdc2e-cdcb-4492-b8bb-e445b2bc50ab",
   "metadata": {},
   "outputs": [],
   "source": [
    "w = weather[weather['DATE'] >= date].groupby([weather.DATE.dt.day, weather.DATE.dt.month, weather.DATE.dt.year])[wcols] \\\n",
    "    .mean() \\\n",
    "    .round(0)\n",
    "w.index = w.index.set_names(['day', 'month', 'year'])\n",
    "w = w.reset_index()\n",
    "w.insert(1, 'date', pd.to_datetime(w[['day', 'month', 'year']]))\n",
    "w = w.drop(['day', 'month', 'year'], axis=1)"
   ]
  },
  {
   "cell_type": "code",
   "execution_count": 110,
   "id": "7ebb8ca8-28c1-4b8f-96a9-4d4ed288cecd",
   "metadata": {},
   "outputs": [],
   "source": [
    "b.merge(w, on='date').sort_values('date').to_csv(\"../../data/features.csv\")"
   ]
  },
  {
   "cell_type": "code",
   "execution_count": null,
   "id": "23bb1e84-dc6b-4709-b674-9b7cf8871b6f",
   "metadata": {},
   "outputs": [],
   "source": []
  }
 ],
 "metadata": {
  "kernelspec": {
   "display_name": "Python 3 (ipykernel)",
   "language": "python",
   "name": "python3"
  },
  "language_info": {
   "codemirror_mode": {
    "name": "ipython",
    "version": 3
   },
   "file_extension": ".py",
   "mimetype": "text/x-python",
   "name": "python",
   "nbconvert_exporter": "python",
   "pygments_lexer": "ipython3",
   "version": "3.10.14"
  }
 },
 "nbformat": 4,
 "nbformat_minor": 5
}
